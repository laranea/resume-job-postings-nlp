{
 "cells": [
  {
   "cell_type": "code",
   "execution_count": 42,
   "metadata": {},
   "outputs": [],
   "source": [
    "import numpy as np\n",
    "import pandas as pd\n",
    "import matplotlib.pyplot as plt"
   ]
  },
  {
   "cell_type": "code",
   "execution_count": 2,
   "metadata": {},
   "outputs": [],
   "source": [
    "postings = pd.read_pickle(\"../step1_df.pk\")"
   ]
  },
  {
   "cell_type": "code",
   "execution_count": 4,
   "metadata": {},
   "outputs": [],
   "source": [
    "resume = open(\"../data/Liveproject Resume.txt\").read()"
   ]
  },
  {
   "cell_type": "code",
   "execution_count": 27,
   "metadata": {},
   "outputs": [],
   "source": [
    "resume_df = pd.DataFrame({\"title\": \"resume\", \"body\": resume, \"bullets\": ''}, index=[0])\n",
    "comb_res_posting = postings.append(resume_df)"
   ]
  },
  {
   "cell_type": "code",
   "execution_count": 18,
   "metadata": {},
   "outputs": [],
   "source": [
    "from sklearn.feature_extraction.text import TfidfVectorizer\n",
    "from sklearn.feature_extraction import stop_words"
   ]
  },
  {
   "cell_type": "code",
   "execution_count": 19,
   "metadata": {},
   "outputs": [],
   "source": [
    "tfidf = TfidfVectorizer(stop_words='english')"
   ]
  },
  {
   "cell_type": "code",
   "execution_count": 31,
   "metadata": {},
   "outputs": [],
   "source": [
    "mat = tfidf.fit_transform(comb_res_posting[\"body\"])\n",
    "postings_mat = mat[:-1, :]\n",
    "resume_mat = mat[-1, :]"
   ]
  },
  {
   "cell_type": "code",
   "execution_count": 35,
   "metadata": {},
   "outputs": [],
   "source": [
    "from sklearn.metrics.pairwise import cosine_similarity\n",
    "sims = cosine_similarity(postings_mat, resume_mat)"
   ]
  },
  {
   "cell_type": "code",
   "execution_count": 36,
   "metadata": {},
   "outputs": [],
   "source": [
    "sorted_df = postings.copy()\n",
    "sorted_df[\"cosine sim\"] = sims"
   ]
  },
  {
   "cell_type": "code",
   "execution_count": 39,
   "metadata": {},
   "outputs": [],
   "source": [
    "sorted_df.sort_values(by='cosine sim', ascending=False, inplace=True)"
   ]
  },
  {
   "cell_type": "code",
   "execution_count": 40,
   "metadata": {},
   "outputs": [
    {
     "data": {
      "text/html": [
       "<div>\n",
       "<style scoped>\n",
       "    .dataframe tbody tr th:only-of-type {\n",
       "        vertical-align: middle;\n",
       "    }\n",
       "\n",
       "    .dataframe tbody tr th {\n",
       "        vertical-align: top;\n",
       "    }\n",
       "\n",
       "    .dataframe thead th {\n",
       "        text-align: right;\n",
       "    }\n",
       "</style>\n",
       "<table border=\"1\" class=\"dataframe\">\n",
       "  <thead>\n",
       "    <tr style=\"text-align: right;\">\n",
       "      <th></th>\n",
       "      <th>title</th>\n",
       "      <th>body</th>\n",
       "      <th>bullets</th>\n",
       "      <th>cosine sim</th>\n",
       "    </tr>\n",
       "  </thead>\n",
       "  <tbody>\n",
       "    <tr>\n",
       "      <th>0</th>\n",
       "      <td>Institutional Data and Research Analyst (6948U...</td>\n",
       "      <td>Institutional Data and Research Analyst (6948U...</td>\n",
       "      <td>()</td>\n",
       "      <td>0.143349</td>\n",
       "    </tr>\n",
       "    <tr>\n",
       "      <th>1</th>\n",
       "      <td>Data Science Health Innovation Fellow Job - BI...</td>\n",
       "      <td>Data Science Health Innovation Fellow Job - BI...</td>\n",
       "      <td>(Demonstrated ability to propose, initiate, an...</td>\n",
       "      <td>0.125523</td>\n",
       "    </tr>\n",
       "    <tr>\n",
       "      <th>2</th>\n",
       "      <td>Machine Learning Postdoctoral Fellow - San Fra...</td>\n",
       "      <td>Machine Learning Postdoctoral Fellow - San Fra...</td>\n",
       "      <td>(Design and develop distributed machine learni...</td>\n",
       "      <td>0.121162</td>\n",
       "    </tr>\n",
       "    <tr>\n",
       "      <th>3</th>\n",
       "      <td>Data Analyst (6256U) 1737 - 1737 - Berkeley, C...</td>\n",
       "      <td>Data Analyst (6256U) 1737 - 1737 - Berkeley, C...</td>\n",
       "      <td>()</td>\n",
       "      <td>0.117481</td>\n",
       "    </tr>\n",
       "    <tr>\n",
       "      <th>4</th>\n",
       "      <td>Senior Data Systems Analyst (0599U) - 1668 - 1...</td>\n",
       "      <td>Senior Data Systems Analyst (0599U) - 1668 - 1...</td>\n",
       "      <td>()</td>\n",
       "      <td>0.113083</td>\n",
       "    </tr>\n",
       "  </tbody>\n",
       "</table>\n",
       "</div>"
      ],
      "text/plain": [
       "                                               title  \\\n",
       "0  Institutional Data and Research Analyst (6948U...   \n",
       "1  Data Science Health Innovation Fellow Job - BI...   \n",
       "2  Machine Learning Postdoctoral Fellow - San Fra...   \n",
       "3  Data Analyst (6256U) 1737 - 1737 - Berkeley, C...   \n",
       "4  Senior Data Systems Analyst (0599U) - 1668 - 1...   \n",
       "\n",
       "                                                body  \\\n",
       "0  Institutional Data and Research Analyst (6948U...   \n",
       "1  Data Science Health Innovation Fellow Job - BI...   \n",
       "2  Machine Learning Postdoctoral Fellow - San Fra...   \n",
       "3  Data Analyst (6256U) 1737 - 1737 - Berkeley, C...   \n",
       "4  Senior Data Systems Analyst (0599U) - 1668 - 1...   \n",
       "\n",
       "                                             bullets  cosine sim  \n",
       "0                                                 ()    0.143349  \n",
       "1  (Demonstrated ability to propose, initiate, an...    0.125523  \n",
       "2  (Design and develop distributed machine learni...    0.121162  \n",
       "3                                                 ()    0.117481  \n",
       "4                                                 ()    0.113083  "
      ]
     },
     "execution_count": 40,
     "metadata": {},
     "output_type": "execute_result"
    }
   ],
   "source": [
    "sorted_df.reset_index(inplace=True, drop=True)\n",
    "sorted_df.head()"
   ]
  },
  {
   "cell_type": "code",
   "execution_count": 44,
   "metadata": {},
   "outputs": [
    {
     "data": {
      "text/plain": [
       "Text(0, 0.5, 'cosine similarity')"
      ]
     },
     "execution_count": 44,
     "metadata": {},
     "output_type": "execute_result"
    },
    {
     "data": {
      "image/png": "[encoded data removed]",
      "text/plain": [
       "<Figure size 720x432 with 1 Axes>"
      ]
     },
     "metadata": {
      "needs_background": "light"
     },
     "output_type": "display_data"
    }
   ],
   "source": [
    "# Use matplot to see the shape of the similarities\n",
    "plt.figure(figsize=(10,6))\n",
    "sorted_df['cosine sim'].plot()\n",
    "plt.title('Cosine Similarity to resume')\n",
    "plt.xlabel('num job postings')\n",
    "plt.ylabel('cosine similarity')"
   ]
  },
  {
   "cell_type": "code",
   "execution_count": 47,
   "metadata": {},
   "outputs": [],
   "source": [
    "sorted_df.loc[:100].to_pickle(\"step2_df.pk\")"
   ]
  },
  {
   "cell_type": "code",
   "execution_count": null,
   "metadata": {},
   "outputs": [],
   "source": []
  }
 ],
 "metadata": {
  "kernelspec": {
   "display_name": "Python 3",
   "language": "python",
   "name": "python3"
  },
  "language_info": {
   "codemirror_mode": {
    "name": "ipython",
    "version": 3
   },
   "file_extension": ".py",
   "mimetype": "text/x-python",
   "name": "python",
   "nbconvert_exporter": "python",
   "pygments_lexer": "ipython3",
   "version": "3.7.3"
  }
 },
 "nbformat": 4,
 "nbformat_minor": 2
}
